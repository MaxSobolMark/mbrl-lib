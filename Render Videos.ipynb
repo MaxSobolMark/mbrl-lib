{
 "cells": [
  {
   "cell_type": "code",
   "execution_count": 1,
   "id": "4a114dc1",
   "metadata": {
    "collapsed": false
   },
   "outputs": [],
   "source": [
    "import torch\n",
    "import numpy as np\n",
    "import os\n",
    "import pandas as pd\n",
    "import seaborn as sns\n",
    "from matplotlib import pyplot as plt\n",
    "\n",
    "os.environ['MUJOCO_PY_MJPRO_PATH'] = '/sailhome/maxsobolmark/.mujoco/mjpro131'\n",
    "\n",
    "pets_swimmer_path = '/sailhome/maxsobolmark/mbrl-lib/exp/fsrl/default/pets_swimmer_mbbl_lifelong_learning/2021.12.19/090259/'"
   ]
  },
  {
   "cell_type": "code",
   "execution_count": 2,
   "id": "e373eaaf",
   "metadata": {
    "collapsed": false
   },
   "outputs": [],
   "source": [
    "replay_buffers = [np.load(f'{pets_swimmer_path}replay_buffer_task-{i}.npz') for i in range (4)]"
   ]
  },
  {
   "cell_type": "code",
   "execution_count": 3,
   "id": "ff3ba66c",
   "metadata": {
    "collapsed": false
   },
   "outputs": [
    {
     "name": "stderr",
     "output_type": "stream",
     "text": [
      "/iris/u/maxsobolmark/pytorch_mbbl/lib/python3.9/site-packages/hydra/core/utils.py:143: UserWarning: register_resolver() is deprecated.\n",
      "See https://github.com/omry/omegaconf/issues/426 for migration instructions.\n",
      "\n",
      "  OmegaConf.register_resolver(name, f)\n"
     ]
    }
   ],
   "source": [
    "from hydra.experimental import initialize, compose\n",
    "initialize(config_path='mbrl/examples/conf')\n",
    "cfg = compose(config_name='main_lifelong_learning', overrides=['overrides=pets_swimmer_mbbl_lifelong_learning', 'overrides.policy_mopo_penalty_coeff=0', 'overrides.planning_mopo_penalty_coeff=0'])\n",
    "# cfg.device = 'cpu'"
   ]
  },
  {
   "cell_type": "code",
   "execution_count": 4,
   "id": "ea489e03",
   "metadata": {
    "collapsed": false
   },
   "outputs": [
    {
     "name": "stderr",
     "output_type": "stream",
     "text": [
      "[2021-12-23 10:38:06,312] Making new env: Swimmer-v1\n"
     ]
    },
    {
     "name": "stderr",
     "output_type": "stream",
     "text": [
      "/iris/u/maxsobolmark/pytorch_mbbl/lib/python3.9/site-packages/gym/envs/registration.py:17: PkgResourcesDeprecationWarning: Parameters to load are deprecated.  Call .resolve and .require separately.\n",
      "  result = entry_point.load(False)\n",
      "[2021-12-23 10:38:06,329] Attempted to wrap env <mbbl.env.gym_env.walker.env object at 0x7f5b232f81f0> after .configure() was called.\n"
     ]
    },
    {
     "name": "stderr",
     "output_type": "stream",
     "text": [
      "[2021-12-23 10:38:06,330] Making new env: Swimmer-v1\n"
     ]
    },
    {
     "name": "stderr",
     "output_type": "stream",
     "text": [
      "[2021-12-23 10:38:06,339] Attempted to wrap env <mbbl.env.gym_env.walker.env object at 0x7f5ade7762e0> after .configure() was called.\n"
     ]
    },
    {
     "name": "stderr",
     "output_type": "stream",
     "text": [
      "[2021-12-23 10:38:06,341] Making new env: Swimmer-v1\n"
     ]
    },
    {
     "name": "stderr",
     "output_type": "stream",
     "text": [
      "[2021-12-23 10:38:06,350] Attempted to wrap env <mbbl.env.gym_env.walker.env object at 0x7f5ade7767f0> after .configure() was called.\n"
     ]
    },
    {
     "name": "stderr",
     "output_type": "stream",
     "text": [
      "[2021-12-23 10:38:06,352] Making new env: Swimmer-v1\n"
     ]
    },
    {
     "name": "stderr",
     "output_type": "stream",
     "text": [
      "[2021-12-23 10:38:06,362] Attempted to wrap env <mbbl.env.gym_env.walker.env object at 0x7f5ade776d30> after .configure() was called.\n"
     ]
    },
    {
     "name": "stdout",
     "output_type": "stream",
     "text": [
      "[main_lifelong_learning:168] reward_fn:  <function swimmer_mbbl at 0x7f5b1d2f1550>\n",
      "[main_lifelong_learning:168] reward_fn:  <function swimmer_mbbl_backwards at 0x7f5b1d2f15e0>\n",
      "[main_lifelong_learning:168] reward_fn:  <function swimmer_mbbl_forwards_up at 0x7f5b1d2f1670>\n",
      "[main_lifelong_learning:168] reward_fn:  <function swimmer_mbbl_backwards_up at 0x7f5b1d2f1700>\n"
     ]
    }
   ],
   "source": [
    "from mbrl.examples.main_lifelong_learning import make_env\n",
    "from mbrl.util.lifelong_learning import make_task_name_to_index_map\n",
    "from mbrl.env.wrappers.multitask_wrapper import MultitaskWrapper\n",
    "lifelong_learning_envs = []\n",
    "lifelong_learning_task_names = []\n",
    "lifelong_learning_termination_fns = []\n",
    "lifelong_learning_reward_fns = []\n",
    "\n",
    "# num_tasks = len(cfg.overrides.envs)\n",
    "\n",
    "for i, env_cfg in enumerate(cfg.overrides.envs):\n",
    "    env, term_fn, reward_fn = make_env(env_cfg.env_name, env_cfg.wrappers,\n",
    "                                       cfg.overrides.learned_rewards, cfg,\n",
    "                                       env_cfg)\n",
    "    # env = MultitaskWrapper(env, i, num_tasks)\n",
    "    lifelong_learning_envs.append(env)\n",
    "    lifelong_learning_task_names.append(env_cfg.task_name)\n",
    "    lifelong_learning_termination_fns.append(term_fn)\n",
    "    lifelong_learning_reward_fns.append(reward_fn)\n",
    "\n",
    "task_name_to_task_index = make_task_name_to_index_map(\n",
    "    lifelong_learning_task_names)\n",
    "num_tasks = len(task_name_to_task_index.keys())\n",
    "lifelong_learning_envs = lifelong_learning_envs[:num_tasks]\n",
    "lifelong_learning_termination_fns = (\n",
    "    lifelong_learning_termination_fns[:num_tasks])\n",
    "lifelong_learning_reward_fns = lifelong_learning_reward_fns[:num_tasks]\n",
    "for i in range(len(lifelong_learning_envs)):\n",
    "    lifelong_learning_envs[i] = MultitaskWrapper(\n",
    "        lifelong_learning_envs[i], i, cfg.overrides.num_distinct_envs)"
   ]
  },
  {
   "cell_type": "code",
   "execution_count": 5,
   "id": "f5500416",
   "metadata": {
    "collapsed": false
   },
   "outputs": [
    {
     "name": "stdout",
     "output_type": "stream",
     "text": [
      "[common:89] out_size:  8\n"
     ]
    },
    {
     "name": "stderr",
     "output_type": "stream",
     "text": [
      "/iris/u/maxsobolmark/pytorch_mbbl/lib/python3.9/site-packages/hydra/utils.py:32: UserWarning: `OmegaConf.is_none()` is deprecated, see https://github.com/omry/omegaconf/issues/547\n",
      "  if OmegaConf.is_none(config):\n"
     ]
    },
    {
     "name": "stdout",
     "output_type": "stream",
     "text": [
      "self._model.no_delta_list:  []\n"
     ]
    }
   ],
   "source": [
    "import mbrl.util.common\n",
    "from mbrl.models.lifelong_learning_model import LifelongLearningModel\n",
    "obs_shape = lifelong_learning_envs[0].observation_space.shape\n",
    "act_shape = lifelong_learning_envs[0].action_space.shape\n",
    "dynamics_model = mbrl.util.common.create_one_dim_tr_model(cfg, obs_shape, act_shape)\n",
    "dynamics_model = LifelongLearningModel(dynamics_model,\n",
    "                                       cfg.overrides.num_distinct_envs,\n",
    "                                       obs_shape,\n",
    "                                       act_shape,\n",
    "                                       cfg,\n",
    "                                       observe_task_id=cfg.overrides.observe_task_id,\n",
    "                                       forward_postprocess_fn=None)\n",
    "import pickle\n",
    "elite_models = pickle.load(open(pets_swimmer_path + 'elite_models.pkl', 'rb'))\n",
    "dynamics_model.set_elite(elite_models)"
   ]
  },
  {
   "cell_type": "code",
   "execution_count": 10,
   "id": "6eb3ee85",
   "metadata": {
    "collapsed": false
   },
   "outputs": [],
   "source": [
    "from functools import partial\n",
    "import mbrl.models\n",
    "import mbrl.planning\n",
    "from mbrl.util.lifelong_learning import (\n",
    "    make_task_name_to_index_map, general_reward_function,\n",
    "    train_lifelong_learning_model_and_save_model_and_data)\n",
    "reward_function = partial(\n",
    "    general_reward_function,\n",
    "    list_of_reward_functions=lifelong_learning_reward_fns,\n",
    "    device=cfg.device)\n",
    "torch_generator = torch.Generator(device=cfg.device)\n",
    "model_env = mbrl.models.ModelEnv(lifelong_learning_envs[0],\n",
    "                                 dynamics_model,\n",
    "                                 lifelong_learning_termination_fns[0],\n",
    "                                 reward_function,\n",
    "                                 generator=torch_generator)\n",
    "planning_agent = mbrl.planning.create_trajectory_optim_agent_for_model(\n",
    "    model_env,\n",
    "    cfg.algorithm.agent,\n",
    "    num_particles=cfg.algorithm.num_particles,\n",
    "    planning_mopo_penalty_coeff=cfg.overrides.planning_mopo_penalty_coeff)"
   ]
  },
  {
   "cell_type": "code",
   "execution_count": 11,
   "id": "cd0a8b7f",
   "metadata": {
    "collapsed": false
   },
   "outputs": [
    {
     "name": "stderr",
     "output_type": "stream",
     "text": [
      "[2021-12-23 10:35:26,815] GLFW error: 65544, desc: b'X11: The DISPLAY environment variable is missing'\n"
     ]
    },
    {
     "ename": "Exception",
     "evalue": "glfw failed to initialize",
     "output_type": "error",
     "traceback": [
      "\u001b[0;31m---------------------------------------------------------------------------\u001b[0m",
      "\u001b[0;31mException\u001b[0m                                 Traceback (most recent call last)",
      "\u001b[0;32m<ipython-input-11-f95467768b30>\u001b[0m in \u001b[0;36m<module>\u001b[0;34m\u001b[0m\n\u001b[1;32m      3\u001b[0m \u001b[0;31m#\u001b[0m\u001b[0;34m\u001b[0m\u001b[0;34m\u001b[0m\u001b[0;34m\u001b[0m\u001b[0m\n\u001b[1;32m      4\u001b[0m \u001b[0menv\u001b[0m\u001b[0;34m.\u001b[0m\u001b[0mstep\u001b[0m\u001b[0;34m(\u001b[0m\u001b[0menv\u001b[0m\u001b[0;34m.\u001b[0m\u001b[0maction_space\u001b[0m\u001b[0;34m.\u001b[0m\u001b[0msample\u001b[0m\u001b[0;34m(\u001b[0m\u001b[0;34m)\u001b[0m\u001b[0;34m)\u001b[0m\u001b[0;34m\u001b[0m\u001b[0;34m\u001b[0m\u001b[0m\n\u001b[0;32m----> 5\u001b[0;31m \u001b[0menv\u001b[0m\u001b[0;34m.\u001b[0m\u001b[0munwrapped\u001b[0m\u001b[0;34m.\u001b[0m\u001b[0m_env\u001b[0m\u001b[0;34m.\u001b[0m\u001b[0mrender\u001b[0m\u001b[0;34m(\u001b[0m\u001b[0mmode\u001b[0m\u001b[0;34m=\u001b[0m\u001b[0;34m'rgb_array'\u001b[0m\u001b[0;34m)\u001b[0m\u001b[0;34m\u001b[0m\u001b[0;34m\u001b[0m\u001b[0m\n\u001b[0m",
      "\u001b[0;32m/iris/u/maxsobolmark/pytorch_mbbl/lib/python3.9/site-packages/gym/core.py\u001b[0m in \u001b[0;36mrender\u001b[0;34m(self, mode, close)\u001b[0m\n\u001b[1;32m    172\u001b[0m             \u001b[0;32mraise\u001b[0m \u001b[0merror\u001b[0m\u001b[0;34m.\u001b[0m\u001b[0mUnsupportedMode\u001b[0m\u001b[0;34m(\u001b[0m\u001b[0;34m'Unsupported rendering mode: {}. (Supported modes for {}: {})'\u001b[0m\u001b[0;34m.\u001b[0m\u001b[0mformat\u001b[0m\u001b[0;34m(\u001b[0m\u001b[0mmode\u001b[0m\u001b[0;34m,\u001b[0m \u001b[0mself\u001b[0m\u001b[0;34m,\u001b[0m \u001b[0mmodes\u001b[0m\u001b[0;34m)\u001b[0m\u001b[0;34m)\u001b[0m\u001b[0;34m\u001b[0m\u001b[0;34m\u001b[0m\u001b[0m\n\u001b[1;32m    173\u001b[0m \u001b[0;34m\u001b[0m\u001b[0m\n\u001b[0;32m--> 174\u001b[0;31m         \u001b[0;32mreturn\u001b[0m \u001b[0mself\u001b[0m\u001b[0;34m.\u001b[0m\u001b[0m_render\u001b[0m\u001b[0;34m(\u001b[0m\u001b[0mmode\u001b[0m\u001b[0;34m=\u001b[0m\u001b[0mmode\u001b[0m\u001b[0;34m,\u001b[0m \u001b[0mclose\u001b[0m\u001b[0;34m=\u001b[0m\u001b[0mclose\u001b[0m\u001b[0;34m)\u001b[0m\u001b[0;34m\u001b[0m\u001b[0;34m\u001b[0m\u001b[0m\n\u001b[0m\u001b[1;32m    175\u001b[0m \u001b[0;34m\u001b[0m\u001b[0m\n\u001b[1;32m    176\u001b[0m     \u001b[0;32mdef\u001b[0m \u001b[0mclose\u001b[0m\u001b[0;34m(\u001b[0m\u001b[0mself\u001b[0m\u001b[0;34m)\u001b[0m\u001b[0;34m:\u001b[0m\u001b[0;34m\u001b[0m\u001b[0;34m\u001b[0m\u001b[0m\n",
      "\u001b[0;32m/iris/u/maxsobolmark/pytorch_mbbl/lib/python3.9/site-packages/gym/core.py\u001b[0m in \u001b[0;36m_render\u001b[0;34m(self, mode, close)\u001b[0m\n\u001b[1;32m    339\u001b[0m         \u001b[0;32mif\u001b[0m \u001b[0mself\u001b[0m\u001b[0;34m.\u001b[0m\u001b[0menv\u001b[0m \u001b[0;32mis\u001b[0m \u001b[0;32mNone\u001b[0m\u001b[0;34m:\u001b[0m\u001b[0;34m\u001b[0m\u001b[0;34m\u001b[0m\u001b[0m\n\u001b[1;32m    340\u001b[0m             \u001b[0;32mreturn\u001b[0m\u001b[0;34m\u001b[0m\u001b[0;34m\u001b[0m\u001b[0m\n\u001b[0;32m--> 341\u001b[0;31m         \u001b[0;32mreturn\u001b[0m \u001b[0mself\u001b[0m\u001b[0;34m.\u001b[0m\u001b[0menv\u001b[0m\u001b[0;34m.\u001b[0m\u001b[0mrender\u001b[0m\u001b[0;34m(\u001b[0m\u001b[0mmode\u001b[0m\u001b[0;34m,\u001b[0m \u001b[0mclose\u001b[0m\u001b[0;34m)\u001b[0m\u001b[0;34m\u001b[0m\u001b[0;34m\u001b[0m\u001b[0m\n\u001b[0m\u001b[1;32m    342\u001b[0m \u001b[0;34m\u001b[0m\u001b[0m\n\u001b[1;32m    343\u001b[0m     \u001b[0;32mdef\u001b[0m \u001b[0m_close\u001b[0m\u001b[0;34m(\u001b[0m\u001b[0mself\u001b[0m\u001b[0;34m)\u001b[0m\u001b[0;34m:\u001b[0m\u001b[0;34m\u001b[0m\u001b[0;34m\u001b[0m\u001b[0m\n",
      "\u001b[0;32m/iris/u/maxsobolmark/pytorch_mbbl/lib/python3.9/site-packages/gym/core.py\u001b[0m in \u001b[0;36mrender\u001b[0;34m(self, mode, close)\u001b[0m\n\u001b[1;32m    172\u001b[0m             \u001b[0;32mraise\u001b[0m \u001b[0merror\u001b[0m\u001b[0;34m.\u001b[0m\u001b[0mUnsupportedMode\u001b[0m\u001b[0;34m(\u001b[0m\u001b[0;34m'Unsupported rendering mode: {}. (Supported modes for {}: {})'\u001b[0m\u001b[0;34m.\u001b[0m\u001b[0mformat\u001b[0m\u001b[0;34m(\u001b[0m\u001b[0mmode\u001b[0m\u001b[0;34m,\u001b[0m \u001b[0mself\u001b[0m\u001b[0;34m,\u001b[0m \u001b[0mmodes\u001b[0m\u001b[0;34m)\u001b[0m\u001b[0;34m)\u001b[0m\u001b[0;34m\u001b[0m\u001b[0;34m\u001b[0m\u001b[0m\n\u001b[1;32m    173\u001b[0m \u001b[0;34m\u001b[0m\u001b[0m\n\u001b[0;32m--> 174\u001b[0;31m         \u001b[0;32mreturn\u001b[0m \u001b[0mself\u001b[0m\u001b[0;34m.\u001b[0m\u001b[0m_render\u001b[0m\u001b[0;34m(\u001b[0m\u001b[0mmode\u001b[0m\u001b[0;34m=\u001b[0m\u001b[0mmode\u001b[0m\u001b[0;34m,\u001b[0m \u001b[0mclose\u001b[0m\u001b[0;34m=\u001b[0m\u001b[0mclose\u001b[0m\u001b[0;34m)\u001b[0m\u001b[0;34m\u001b[0m\u001b[0;34m\u001b[0m\u001b[0m\n\u001b[0m\u001b[1;32m    175\u001b[0m \u001b[0;34m\u001b[0m\u001b[0m\n\u001b[1;32m    176\u001b[0m     \u001b[0;32mdef\u001b[0m \u001b[0mclose\u001b[0m\u001b[0;34m(\u001b[0m\u001b[0mself\u001b[0m\u001b[0;34m)\u001b[0m\u001b[0;34m:\u001b[0m\u001b[0;34m\u001b[0m\u001b[0;34m\u001b[0m\u001b[0m\n",
      "\u001b[0;32m/iris/u/maxsobolmark/pytorch_mbbl/lib/python3.9/site-packages/gym/envs/mujoco/mujoco_env.py\u001b[0m in \u001b[0;36m_render\u001b[0;34m(self, mode, close)\u001b[0m\n\u001b[1;32m    108\u001b[0m \u001b[0;34m\u001b[0m\u001b[0m\n\u001b[1;32m    109\u001b[0m         \u001b[0;32mif\u001b[0m \u001b[0mmode\u001b[0m \u001b[0;34m==\u001b[0m \u001b[0;34m'rgb_array'\u001b[0m\u001b[0;34m:\u001b[0m\u001b[0;34m\u001b[0m\u001b[0;34m\u001b[0m\u001b[0m\n\u001b[0;32m--> 110\u001b[0;31m             \u001b[0mself\u001b[0m\u001b[0;34m.\u001b[0m\u001b[0m_get_viewer\u001b[0m\u001b[0;34m(\u001b[0m\u001b[0;34m)\u001b[0m\u001b[0;34m.\u001b[0m\u001b[0mrender\u001b[0m\u001b[0;34m(\u001b[0m\u001b[0;34m)\u001b[0m\u001b[0;34m\u001b[0m\u001b[0;34m\u001b[0m\u001b[0m\n\u001b[0m\u001b[1;32m    111\u001b[0m             \u001b[0mdata\u001b[0m\u001b[0;34m,\u001b[0m \u001b[0mwidth\u001b[0m\u001b[0;34m,\u001b[0m \u001b[0mheight\u001b[0m \u001b[0;34m=\u001b[0m \u001b[0mself\u001b[0m\u001b[0;34m.\u001b[0m\u001b[0m_get_viewer\u001b[0m\u001b[0;34m(\u001b[0m\u001b[0;34m)\u001b[0m\u001b[0;34m.\u001b[0m\u001b[0mget_image\u001b[0m\u001b[0;34m(\u001b[0m\u001b[0;34m)\u001b[0m\u001b[0;34m\u001b[0m\u001b[0;34m\u001b[0m\u001b[0m\n\u001b[1;32m    112\u001b[0m             \u001b[0;32mreturn\u001b[0m \u001b[0mnp\u001b[0m\u001b[0;34m.\u001b[0m\u001b[0mfromstring\u001b[0m\u001b[0;34m(\u001b[0m\u001b[0mdata\u001b[0m\u001b[0;34m,\u001b[0m \u001b[0mdtype\u001b[0m\u001b[0;34m=\u001b[0m\u001b[0;34m'uint8'\u001b[0m\u001b[0;34m)\u001b[0m\u001b[0;34m.\u001b[0m\u001b[0mreshape\u001b[0m\u001b[0;34m(\u001b[0m\u001b[0mheight\u001b[0m\u001b[0;34m,\u001b[0m \u001b[0mwidth\u001b[0m\u001b[0;34m,\u001b[0m \u001b[0;36m3\u001b[0m\u001b[0;34m)\u001b[0m\u001b[0;34m[\u001b[0m\u001b[0;34m:\u001b[0m\u001b[0;34m:\u001b[0m\u001b[0;34m-\u001b[0m\u001b[0;36m1\u001b[0m\u001b[0;34m,\u001b[0m \u001b[0;34m:\u001b[0m\u001b[0;34m,\u001b[0m \u001b[0;34m:\u001b[0m\u001b[0;34m]\u001b[0m\u001b[0;34m\u001b[0m\u001b[0;34m\u001b[0m\u001b[0m\n",
      "\u001b[0;32m/iris/u/maxsobolmark/pytorch_mbbl/lib/python3.9/site-packages/gym/envs/mujoco/mujoco_env.py\u001b[0m in \u001b[0;36m_get_viewer\u001b[0;34m(self)\u001b[0m\n\u001b[1;32m    117\u001b[0m         \u001b[0;32mif\u001b[0m \u001b[0mself\u001b[0m\u001b[0;34m.\u001b[0m\u001b[0mviewer\u001b[0m \u001b[0;32mis\u001b[0m \u001b[0;32mNone\u001b[0m\u001b[0;34m:\u001b[0m\u001b[0;34m\u001b[0m\u001b[0;34m\u001b[0m\u001b[0m\n\u001b[1;32m    118\u001b[0m             \u001b[0mself\u001b[0m\u001b[0;34m.\u001b[0m\u001b[0mviewer\u001b[0m \u001b[0;34m=\u001b[0m \u001b[0mmujoco_py\u001b[0m\u001b[0;34m.\u001b[0m\u001b[0mMjViewer\u001b[0m\u001b[0;34m(\u001b[0m\u001b[0;34m)\u001b[0m\u001b[0;34m\u001b[0m\u001b[0;34m\u001b[0m\u001b[0m\n\u001b[0;32m--> 119\u001b[0;31m             \u001b[0mself\u001b[0m\u001b[0;34m.\u001b[0m\u001b[0mviewer\u001b[0m\u001b[0;34m.\u001b[0m\u001b[0mstart\u001b[0m\u001b[0;34m(\u001b[0m\u001b[0;34m)\u001b[0m\u001b[0;34m\u001b[0m\u001b[0;34m\u001b[0m\u001b[0m\n\u001b[0m\u001b[1;32m    120\u001b[0m             \u001b[0mself\u001b[0m\u001b[0;34m.\u001b[0m\u001b[0mviewer\u001b[0m\u001b[0;34m.\u001b[0m\u001b[0mset_model\u001b[0m\u001b[0;34m(\u001b[0m\u001b[0mself\u001b[0m\u001b[0;34m.\u001b[0m\u001b[0mmodel\u001b[0m\u001b[0;34m)\u001b[0m\u001b[0;34m\u001b[0m\u001b[0;34m\u001b[0m\u001b[0m\n\u001b[1;32m    121\u001b[0m             \u001b[0mself\u001b[0m\u001b[0;34m.\u001b[0m\u001b[0mviewer_setup\u001b[0m\u001b[0;34m(\u001b[0m\u001b[0;34m)\u001b[0m\u001b[0;34m\u001b[0m\u001b[0;34m\u001b[0m\u001b[0m\n",
      "\u001b[0;32m/iris/u/maxsobolmark/pytorch_mbbl/lib/python3.9/site-packages/mujoco_py/mjviewer.py\u001b[0m in \u001b[0;36mstart\u001b[0;34m(self)\u001b[0m\n\u001b[1;32m    166\u001b[0m \u001b[0;34m\u001b[0m\u001b[0m\n\u001b[1;32m    167\u001b[0m         \u001b[0;32mif\u001b[0m \u001b[0;32mnot\u001b[0m \u001b[0mglfw\u001b[0m\u001b[0;34m.\u001b[0m\u001b[0minit\u001b[0m\u001b[0;34m(\u001b[0m\u001b[0;34m)\u001b[0m\u001b[0;34m:\u001b[0m\u001b[0;34m\u001b[0m\u001b[0;34m\u001b[0m\u001b[0m\n\u001b[0;32m--> 168\u001b[0;31m             \u001b[0;32mraise\u001b[0m \u001b[0mException\u001b[0m\u001b[0;34m(\u001b[0m\u001b[0;34m'glfw failed to initialize'\u001b[0m\u001b[0;34m)\u001b[0m\u001b[0;34m\u001b[0m\u001b[0;34m\u001b[0m\u001b[0m\n\u001b[0m\u001b[1;32m    169\u001b[0m \u001b[0;34m\u001b[0m\u001b[0m\n\u001b[1;32m    170\u001b[0m         \u001b[0mwindow\u001b[0m \u001b[0;34m=\u001b[0m \u001b[0;32mNone\u001b[0m\u001b[0;34m\u001b[0m\u001b[0;34m\u001b[0m\u001b[0m\n",
      "\u001b[0;31mException\u001b[0m: glfw failed to initialize"
     ]
    }
   ],
   "source": [
    "env = lifelong_learning_envs[0]\n",
    "env.reset()\n",
    "#\n",
    "env.step(env.action_space.sample())\n",
    "env.unwrapped._env.render(mode='rgb_array')"
   ]
  },
  {
   "cell_type": "code",
   "execution_count": 17,
   "id": "e298bf78",
   "metadata": {
    "collapsed": false
   },
   "outputs": [
    {
     "name": "stdout",
     "output_type": "stream",
     "text": [
      "Collecting pyglet==1.3.2\r\n"
     ]
    },
    {
     "name": "stdout",
     "output_type": "stream",
     "text": [
      "  Downloading pyglet-1.3.2-py2.py3-none-any.whl (1.0 MB)\r\n",
      "\u001b[?25l\r",
      "\u001b[K     |▎                               | 10 kB 13.7 MB/s eta 0:00:01\r",
      "\u001b[K     |▋                               | 20 kB 15.0 MB/s eta 0:00:01\r",
      "\u001b[K     |█                               | 30 kB 10.3 MB/s eta 0:00:01\r",
      "\u001b[K     |█▎                              | 40 kB 9.4 MB/s eta 0:00:01\r",
      "\u001b[K     |█▋                              | 51 kB 8.9 MB/s eta 0:00:01\r",
      "\u001b[K     |██                              | 61 kB 9.6 MB/s eta 0:00:01\r",
      "\u001b[K     |██▎                             | 71 kB 8.9 MB/s eta 0:00:01\r",
      "\u001b[K     |██▋                             | 81 kB 9.9 MB/s eta 0:00:01\r",
      "\u001b[K     |███                             | 92 kB 10.2 MB/s eta 0:00:01\r",
      "\u001b[K     |███▎                            | 102 kB 10.6 MB/s eta 0:00:01\r",
      "\u001b[K     |███▌                            | 112 kB 10.6 MB/s eta 0:00:01\r",
      "\u001b[K     |███▉                            | 122 kB 10.6 MB/s eta 0:00:01\r",
      "\u001b[K     |████▏                           | 133 kB 10.6 MB/s eta 0:00:01\r",
      "\u001b[K     |████▌                           | 143 kB 10.6 MB/s eta 0:00:01\r",
      "\u001b[K     |████▉                           | 153 kB 10.6 MB/s eta 0:00:01\r",
      "\u001b[K     |█████▏                          | 163 kB 10.6 MB/s eta 0:00:01\r",
      "\u001b[K     |█████▌                          | 174 kB 10.6 MB/s eta 0:00:01\r",
      "\u001b[K     |█████▉                          | 184 kB 10.6 MB/s eta 0:00:01\r",
      "\u001b[K     |██████▏                         | 194 kB 10.6 MB/s eta 0:00:01\r",
      "\u001b[K     |██████▌                         | 204 kB 10.6 MB/s eta 0:00:01\r",
      "\u001b[K     |██████▊                         | 215 kB 10.6 MB/s eta 0:00:01\r",
      "\u001b[K     |███████                         | 225 kB 10.6 MB/s eta 0:00:01\r",
      "\u001b[K     |███████▍                        | 235 kB 10.6 MB/s eta 0:00:01\r",
      "\u001b[K     |███████▊                        | 245 kB 10.6 MB/s eta 0:00:01\r",
      "\u001b[K     |████████                        | 256 kB 10.6 MB/s eta 0:00:01\r",
      "\u001b[K     |████████▍                       | 266 kB 10.6 MB/s eta 0:00:01\r",
      "\u001b[K     |████████▊                       | 276 kB 10.6 MB/s eta 0:00:01\r",
      "\u001b[K     |█████████                       | 286 kB 10.6 MB/s eta 0:00:01\r",
      "\u001b[K     |█████████▍                      | 296 kB 10.6 MB/s eta 0:00:01\r",
      "\u001b[K     |█████████▊                      | 307 kB 10.6 MB/s eta 0:00:01\r",
      "\u001b[K     |██████████                      | 317 kB 10.6 MB/s eta 0:00:01\r",
      "\u001b[K     |██████████▎                     | 327 kB 10.6 MB/s eta 0:00:01\r",
      "\u001b[K     |██████████▋                     | 337 kB 10.6 MB/s eta 0:00:01\r",
      "\u001b[K     |███████████                     | 348 kB 10.6 MB/s eta 0:00:01\r",
      "\u001b[K     |███████████▎                    | 358 kB 10.6 MB/s eta 0:00:01\r",
      "\u001b[K     |███████████▋                    | 368 kB 10.6 MB/s eta 0:00:01\r",
      "\u001b[K     |████████████                    | 378 kB 10.6 MB/s eta 0:00:01"
     ]
    },
    {
     "name": "stdout",
     "output_type": "stream",
     "text": [
      "\r",
      "\u001b[K     |████████████▎                   | 389 kB 10.6 MB/s eta 0:00:01\r",
      "\u001b[K     |████████████▋                   | 399 kB 10.6 MB/s eta 0:00:01\r",
      "\u001b[K     |█████████████                   | 409 kB 10.6 MB/s eta 0:00:01\r",
      "\u001b[K     |█████████████▏                  | 419 kB 10.6 MB/s eta 0:00:01\r",
      "\u001b[K     |█████████████▌                  | 430 kB 10.6 MB/s eta 0:00:01\r",
      "\u001b[K     |█████████████▉                  | 440 kB 10.6 MB/s eta 0:00:01\r",
      "\u001b[K     |██████████████▏                 | 450 kB 10.6 MB/s eta 0:00:01\r",
      "\u001b[K     |██████████████▌                 | 460 kB 10.6 MB/s eta 0:00:01\r",
      "\u001b[K     |██████████████▉                 | 471 kB 10.6 MB/s eta 0:00:01\r",
      "\u001b[K     |███████████████▏                | 481 kB 10.6 MB/s eta 0:00:01\r",
      "\u001b[K     |███████████████▌                | 491 kB 10.6 MB/s eta 0:00:01\r",
      "\u001b[K     |███████████████▉                | 501 kB 10.6 MB/s eta 0:00:01\r",
      "\u001b[K     |████████████████▏               | 512 kB 10.6 MB/s eta 0:00:01\r",
      "\u001b[K     |████████████████▍               | 522 kB 10.6 MB/s eta 0:00:01\r",
      "\u001b[K     |████████████████▊               | 532 kB 10.6 MB/s eta 0:00:01\r",
      "\u001b[K     |█████████████████               | 542 kB 10.6 MB/s eta 0:00:01\r",
      "\u001b[K     |█████████████████▍              | 552 kB 10.6 MB/s eta 0:00:01\r",
      "\u001b[K     |█████████████████▊              | 563 kB 10.6 MB/s eta 0:00:01\r",
      "\u001b[K     |██████████████████              | 573 kB 10.6 MB/s eta 0:00:01\r",
      "\u001b[K     |██████████████████▍             | 583 kB 10.6 MB/s eta 0:00:01\r",
      "\u001b[K     |██████████████████▊             | 593 kB 10.6 MB/s eta 0:00:01\r",
      "\u001b[K     |███████████████████             | 604 kB 10.6 MB/s eta 0:00:01\r",
      "\u001b[K     |███████████████████▍            | 614 kB 10.6 MB/s eta 0:00:01\r",
      "\u001b[K     |███████████████████▋            | 624 kB 10.6 MB/s eta 0:00:01\r",
      "\u001b[K     |████████████████████            | 634 kB 10.6 MB/s eta 0:00:01\r",
      "\u001b[K     |████████████████████▎           | 645 kB 10.6 MB/s eta 0:00:01\r",
      "\u001b[K     |████████████████████▋           | 655 kB 10.6 MB/s eta 0:00:01\r",
      "\u001b[K     |█████████████████████           | 665 kB 10.6 MB/s eta 0:00:01\r",
      "\u001b[K     |█████████████████████▎          | 675 kB 10.6 MB/s eta 0:00:01\r",
      "\u001b[K     |█████████████████████▋          | 686 kB 10.6 MB/s eta 0:00:01\r",
      "\u001b[K     |██████████████████████          | 696 kB 10.6 MB/s eta 0:00:01\r",
      "\u001b[K     |██████████████████████▎         | 706 kB 10.6 MB/s eta 0:00:01\r",
      "\u001b[K     |██████████████████████▋         | 716 kB 10.6 MB/s eta 0:00:01\r",
      "\u001b[K     |███████████████████████         | 727 kB 10.6 MB/s eta 0:00:01\r",
      "\u001b[K     |███████████████████████▏        | 737 kB 10.6 MB/s eta 0:00:01\r",
      "\u001b[K     |███████████████████████▌        | 747 kB 10.6 MB/s eta 0:00:01\r",
      "\u001b[K     |███████████████████████▉        | 757 kB 10.6 MB/s eta 0:00:01\r",
      "\u001b[K     |████████████████████████▏       | 768 kB 10.6 MB/s eta 0:00:01\r",
      "\u001b[K     |████████████████████████▌       | 778 kB 10.6 MB/s eta 0:00:01\r",
      "\u001b[K     |████████████████████████▉       | 788 kB 10.6 MB/s eta 0:00:01\r",
      "\u001b[K     |█████████████████████████▏      | 798 kB 10.6 MB/s eta 0:00:01\r",
      "\u001b[K     |█████████████████████████▌      | 808 kB 10.6 MB/s eta 0:00:01\r",
      "\u001b[K     |█████████████████████████▉      | 819 kB 10.6 MB/s eta 0:00:01\r",
      "\u001b[K     |██████████████████████████▏     | 829 kB 10.6 MB/s eta 0:00:01\r",
      "\u001b[K     |██████████████████████████▍     | 839 kB 10.6 MB/s eta 0:00:01\r",
      "\u001b[K     |██████████████████████████▊     | 849 kB 10.6 MB/s eta 0:00:01\r",
      "\u001b[K     |███████████████████████████     | 860 kB 10.6 MB/s eta 0:00:01\r",
      "\u001b[K     |███████████████████████████▍    | 870 kB 10.6 MB/s eta 0:00:01\r",
      "\u001b[K     |███████████████████████████▊    | 880 kB 10.6 MB/s eta 0:00:01\r",
      "\u001b[K     |████████████████████████████    | 890 kB 10.6 MB/s eta 0:00:01\r",
      "\u001b[K     |████████████████████████████▍   | 901 kB 10.6 MB/s eta 0:00:01\r",
      "\u001b[K     |████████████████████████████▊   | 911 kB 10.6 MB/s eta 0:00:01\r",
      "\u001b[K     |█████████████████████████████   | 921 kB 10.6 MB/s eta 0:00:01\r",
      "\u001b[K     |█████████████████████████████▍  | 931 kB 10.6 MB/s eta 0:00:01\r",
      "\u001b[K     |█████████████████████████████▋  | 942 kB 10.6 MB/s eta 0:00:01\r",
      "\u001b[K     |██████████████████████████████  | 952 kB 10.6 MB/s eta 0:00:01\r",
      "\u001b[K     |██████████████████████████████▎ | 962 kB 10.6 MB/s eta 0:00:01\r",
      "\u001b[K     |██████████████████████████████▋ | 972 kB 10.6 MB/s eta 0:00:01\r",
      "\u001b[K     |███████████████████████████████ | 983 kB 10.6 MB/s eta 0:00:01\r",
      "\u001b[K     |███████████████████████████████▎| 993 kB 10.6 MB/s eta 0:00:01\r",
      "\u001b[K     |███████████████████████████████▋| 1.0 MB 10.6 MB/s eta 0:00:01\r",
      "\u001b[K     |████████████████████████████████| 1.0 MB 10.6 MB/s eta 0:00:01\r",
      "\u001b[K     |████████████████████████████████| 1.0 MB 10.6 MB/s \r\n",
      "\u001b[?25hRequirement already satisfied: future in /iris/u/maxsobolmark/pytorch_mbbl/lib/python3.9/site-packages (from pyglet==1.3.2) (0.18.2)\r\n"
     ]
    },
    {
     "name": "stdout",
     "output_type": "stream",
     "text": [
      "Installing collected packages: pyglet\r\n",
      "  Attempting uninstall: pyglet\r\n",
      "    Found existing installation: pyglet 1.5.0\r\n"
     ]
    },
    {
     "name": "stdout",
     "output_type": "stream",
     "text": [
      "    Uninstalling pyglet-1.5.0:\r\n"
     ]
    },
    {
     "name": "stdout",
     "output_type": "stream",
     "text": [
      "      Successfully uninstalled pyglet-1.5.0\r\n"
     ]
    },
    {
     "name": "stdout",
     "output_type": "stream",
     "text": [
      "Successfully installed pyglet-1.3.2\r\n"
     ]
    }
   ],
   "source": [
    "!pip install pyglet==1.3.2"
   ]
  },
  {
   "cell_type": "code",
   "execution_count": 8,
   "id": "c835823d",
   "metadata": {
    "collapsed": false
   },
   "outputs": [
    {
     "name": "stdout",
     "output_type": "stream",
     "text": [
      "Starting step 0\n"
     ]
    },
    {
     "name": "stdout",
     "output_type": "stream",
     "text": [
      "Starting step 1\n"
     ]
    },
    {
     "name": "stdout",
     "output_type": "stream",
     "text": [
      "Starting step 2\n"
     ]
    },
    {
     "ename": "KeyboardInterrupt",
     "evalue": "",
     "output_type": "error",
     "traceback": [
      "\u001b[0;31m---------------------------------------------------------------------------\u001b[0m",
      "\u001b[0;31mKeyboardInterrupt\u001b[0m                         Traceback (most recent call last)",
      "\u001b[0;32m<ipython-input-8-41d42524ab70>\u001b[0m in \u001b[0;36m<module>\u001b[0;34m\u001b[0m\n\u001b[1;32m      6\u001b[0m \u001b[0;32mwhile\u001b[0m \u001b[0;32mnot\u001b[0m \u001b[0mdone\u001b[0m\u001b[0;34m:\u001b[0m\u001b[0;34m\u001b[0m\u001b[0;34m\u001b[0m\u001b[0m\n\u001b[1;32m      7\u001b[0m     \u001b[0mprint\u001b[0m\u001b[0;34m(\u001b[0m\u001b[0;34mf'Starting step {step}'\u001b[0m\u001b[0;34m)\u001b[0m\u001b[0;34m\u001b[0m\u001b[0;34m\u001b[0m\u001b[0m\n\u001b[0;32m----> 8\u001b[0;31m     \u001b[0maction\u001b[0m \u001b[0;34m=\u001b[0m \u001b[0mplanning_agent\u001b[0m\u001b[0;34m.\u001b[0m\u001b[0mact\u001b[0m\u001b[0;34m(\u001b[0m\u001b[0mobs\u001b[0m\u001b[0;34m)\u001b[0m\u001b[0;34m\u001b[0m\u001b[0;34m\u001b[0m\u001b[0m\n\u001b[0m\u001b[1;32m      9\u001b[0m     \u001b[0mnext_obs\u001b[0m\u001b[0;34m,\u001b[0m \u001b[0mreward\u001b[0m\u001b[0;34m,\u001b[0m \u001b[0mdone\u001b[0m\u001b[0;34m,\u001b[0m \u001b[0minfo\u001b[0m \u001b[0;34m=\u001b[0m \u001b[0mlifelong_learning_envs\u001b[0m\u001b[0;34m[\u001b[0m\u001b[0;36m0\u001b[0m\u001b[0;34m]\u001b[0m\u001b[0;34m.\u001b[0m\u001b[0mstep\u001b[0m\u001b[0;34m(\u001b[0m\u001b[0maction\u001b[0m\u001b[0;34m)\u001b[0m\u001b[0;34m\u001b[0m\u001b[0;34m\u001b[0m\u001b[0m\n\u001b[1;32m     10\u001b[0m     \u001b[0mtotal_reward\u001b[0m \u001b[0;34m+=\u001b[0m \u001b[0mreward\u001b[0m\u001b[0;34m\u001b[0m\u001b[0;34m\u001b[0m\u001b[0m\n",
      "\u001b[0;32m/iris/u/maxsobolmark/mbrl-lib/mbrl/planning/trajectory_opt.py\u001b[0m in \u001b[0;36mact\u001b[0;34m(self, obs, **_kwargs)\u001b[0m\n\u001b[1;32m    508\u001b[0m \u001b[0;34m\u001b[0m\u001b[0m\n\u001b[1;32m    509\u001b[0m             \u001b[0mstart_time\u001b[0m \u001b[0;34m=\u001b[0m \u001b[0mtime\u001b[0m\u001b[0;34m.\u001b[0m\u001b[0mtime\u001b[0m\u001b[0;34m(\u001b[0m\u001b[0;34m)\u001b[0m\u001b[0;34m\u001b[0m\u001b[0;34m\u001b[0m\u001b[0m\n\u001b[0;32m--> 510\u001b[0;31m             plan = self.optimizer.optimize(trajectory_eval_fn,\n\u001b[0m\u001b[1;32m    511\u001b[0m                                            callback=callback_for_diagnostics)\n\u001b[1;32m    512\u001b[0m             \u001b[0mplan_time\u001b[0m \u001b[0;34m=\u001b[0m \u001b[0mtime\u001b[0m\u001b[0;34m.\u001b[0m\u001b[0mtime\u001b[0m\u001b[0;34m(\u001b[0m\u001b[0;34m)\u001b[0m \u001b[0;34m-\u001b[0m \u001b[0mstart_time\u001b[0m\u001b[0;34m\u001b[0m\u001b[0;34m\u001b[0m\u001b[0m\n",
      "\u001b[0;32m/iris/u/maxsobolmark/mbrl-lib/mbrl/planning/trajectory_opt.py\u001b[0m in \u001b[0;36moptimize\u001b[0;34m(self, trajectory_eval_fn, callback)\u001b[0m\n\u001b[1;32m    356\u001b[0m             \u001b[0;34m(\u001b[0m\u001b[0mtuple\u001b[0m \u001b[0mof\u001b[0m \u001b[0mnp\u001b[0m\u001b[0;34m.\u001b[0m\u001b[0mndarray\u001b[0m \u001b[0;32mand\u001b[0m \u001b[0mfloat\u001b[0m\u001b[0;34m)\u001b[0m\u001b[0;34m:\u001b[0m \u001b[0mthe\u001b[0m \u001b[0mbest\u001b[0m \u001b[0maction\u001b[0m \u001b[0msequence\u001b[0m\u001b[0;34m.\u001b[0m\u001b[0;34m\u001b[0m\u001b[0;34m\u001b[0m\u001b[0m\n\u001b[1;32m    357\u001b[0m         \"\"\"\n\u001b[0;32m--> 358\u001b[0;31m         best_solution = self.optimizer.optimize(\n\u001b[0m\u001b[1;32m    359\u001b[0m             \u001b[0mtrajectory_eval_fn\u001b[0m\u001b[0;34m,\u001b[0m\u001b[0;34m\u001b[0m\u001b[0;34m\u001b[0m\u001b[0m\n\u001b[1;32m    360\u001b[0m             \u001b[0mx0\u001b[0m\u001b[0;34m=\u001b[0m\u001b[0mself\u001b[0m\u001b[0;34m.\u001b[0m\u001b[0mprevious_solution\u001b[0m\u001b[0;34m,\u001b[0m\u001b[0;34m\u001b[0m\u001b[0;34m\u001b[0m\u001b[0m\n",
      "\u001b[0;32m/iris/u/maxsobolmark/mbrl-lib/mbrl/planning/trajectory_opt.py\u001b[0m in \u001b[0;36moptimize\u001b[0;34m(self, obj_fun, x0, callback, **kwargs)\u001b[0m\n\u001b[1;32m    137\u001b[0m             \u001b[0mpopulation\u001b[0m \u001b[0;34m=\u001b[0m \u001b[0mpopulation\u001b[0m \u001b[0;34m*\u001b[0m \u001b[0mtorch\u001b[0m\u001b[0;34m.\u001b[0m\u001b[0msqrt\u001b[0m\u001b[0;34m(\u001b[0m\u001b[0mconstrained_var\u001b[0m\u001b[0;34m)\u001b[0m \u001b[0;34m+\u001b[0m \u001b[0mmu\u001b[0m\u001b[0;34m\u001b[0m\u001b[0;34m\u001b[0m\u001b[0m\n\u001b[1;32m    138\u001b[0m \u001b[0;34m\u001b[0m\u001b[0m\n\u001b[0;32m--> 139\u001b[0;31m             values, values_std, objective_function_diagnostics = obj_fun(\n\u001b[0m\u001b[1;32m    140\u001b[0m                 population)\n\u001b[1;32m    141\u001b[0m \u001b[0;34m\u001b[0m\u001b[0m\n",
      "\u001b[0;32m/iris/u/maxsobolmark/mbrl-lib/mbrl/planning/trajectory_opt.py\u001b[0m in \u001b[0;36mtrajectory_eval_fn\u001b[0;34m(action_sequences)\u001b[0m\n\u001b[1;32m    471\u001b[0m \u001b[0;34m\u001b[0m\u001b[0m\n\u001b[1;32m    472\u001b[0m             \u001b[0;32mdef\u001b[0m \u001b[0mtrajectory_eval_fn\u001b[0m\u001b[0;34m(\u001b[0m\u001b[0maction_sequences\u001b[0m\u001b[0;34m)\u001b[0m\u001b[0;34m:\u001b[0m\u001b[0;34m\u001b[0m\u001b[0;34m\u001b[0m\u001b[0m\n\u001b[0;32m--> 473\u001b[0;31m                 \u001b[0;32mreturn\u001b[0m \u001b[0mself\u001b[0m\u001b[0;34m.\u001b[0m\u001b[0mtrajectory_eval_fn\u001b[0m\u001b[0;34m(\u001b[0m\u001b[0mobs\u001b[0m\u001b[0;34m,\u001b[0m \u001b[0maction_sequences\u001b[0m\u001b[0;34m)\u001b[0m\u001b[0;34m\u001b[0m\u001b[0;34m\u001b[0m\u001b[0m\n\u001b[0m\u001b[1;32m    474\u001b[0m \u001b[0;34m\u001b[0m\u001b[0m\n\u001b[1;32m    475\u001b[0m             def callback_for_diagnostics(\n",
      "\u001b[0;32m/iris/u/maxsobolmark/mbrl-lib/mbrl/planning/trajectory_opt.py\u001b[0m in \u001b[0;36mtrajectory_eval_fn\u001b[0;34m(initial_state, action_sequences)\u001b[0m\n\u001b[1;32m    575\u001b[0m             \u001b[0;32mif\u001b[0m \u001b[0;32mnot\u001b[0m \u001b[0mshould_use_mopo_fn\u001b[0m\u001b[0;34m(\u001b[0m\u001b[0;34m)\u001b[0m\u001b[0;34m:\u001b[0m\u001b[0;34m\u001b[0m\u001b[0;34m\u001b[0m\u001b[0m\n\u001b[1;32m    576\u001b[0m                 \u001b[0mmopo_penalty_coeff\u001b[0m \u001b[0;34m=\u001b[0m \u001b[0;36m0.\u001b[0m\u001b[0;34m\u001b[0m\u001b[0;34m\u001b[0m\u001b[0m\n\u001b[0;32m--> 577\u001b[0;31m         return model_env.evaluate_action_sequences(\n\u001b[0m\u001b[1;32m    578\u001b[0m             \u001b[0maction_sequences\u001b[0m\u001b[0;34m,\u001b[0m\u001b[0;34m\u001b[0m\u001b[0;34m\u001b[0m\u001b[0m\n\u001b[1;32m    579\u001b[0m             \u001b[0minitial_state\u001b[0m\u001b[0;34m=\u001b[0m\u001b[0minitial_state\u001b[0m\u001b[0;34m,\u001b[0m\u001b[0;34m\u001b[0m\u001b[0;34m\u001b[0m\u001b[0m\n",
      "\u001b[0;32m/iris/u/maxsobolmark/mbrl-lib/mbrl/models/model_env.py\u001b[0m in \u001b[0;36mevaluate_action_sequences\u001b[0;34m(self, action_sequences, initial_state, num_particles, mopo_penalty_coeff)\u001b[0m\n\u001b[1;32m    192\u001b[0m                                                    \u001b[0mnum_particles\u001b[0m\u001b[0;34m,\u001b[0m\u001b[0;34m\u001b[0m\u001b[0;34m\u001b[0m\u001b[0m\n\u001b[1;32m    193\u001b[0m                                                    dim=0)\n\u001b[0;32m--> 194\u001b[0;31m             obs, rewards, dones, _ = self.step(\n\u001b[0m\u001b[1;32m    195\u001b[0m                 \u001b[0maction_batch\u001b[0m\u001b[0;34m,\u001b[0m\u001b[0;34m\u001b[0m\u001b[0;34m\u001b[0m\u001b[0m\n\u001b[1;32m    196\u001b[0m                 \u001b[0msample\u001b[0m\u001b[0;34m=\u001b[0m\u001b[0;32mTrue\u001b[0m\u001b[0;34m,\u001b[0m\u001b[0;34m\u001b[0m\u001b[0;34m\u001b[0m\u001b[0m\n",
      "\u001b[0;32m/iris/u/maxsobolmark/pytorch_mbbl/lib/python3.9/site-packages/gtimer/public/timer.py\u001b[0m in \u001b[0;36mgtimer_wrapped\u001b[0;34m(*args, **kwargs)\u001b[0m\n\u001b[1;32m    396\u001b[0m             \u001b[0msave_itrs\u001b[0m \u001b[0;34m=\u001b[0m \u001b[0mSET\u001b[0m\u001b[0;34m[\u001b[0m\u001b[0;34m'SI'\u001b[0m\u001b[0;34m]\u001b[0m \u001b[0;32mif\u001b[0m \u001b[0mwrap_save_itrs\u001b[0m \u001b[0;32mis\u001b[0m \u001b[0;32mNone\u001b[0m \u001b[0;32melse\u001b[0m \u001b[0mwrap_save_itrs\u001b[0m\u001b[0;34m\u001b[0m\u001b[0;34m\u001b[0m\u001b[0m\n\u001b[1;32m    397\u001b[0m             \u001b[0m_auto_subdivide\u001b[0m\u001b[0;34m(\u001b[0m\u001b[0mname\u001b[0m\u001b[0;34m,\u001b[0m \u001b[0mrgstr_stamps\u001b[0m\u001b[0;34m,\u001b[0m \u001b[0msave_itrs\u001b[0m\u001b[0;34m=\u001b[0m\u001b[0msave_itrs\u001b[0m\u001b[0;34m)\u001b[0m\u001b[0;34m\u001b[0m\u001b[0;34m\u001b[0m\u001b[0m\n\u001b[0;32m--> 398\u001b[0;31m             \u001b[0mresult\u001b[0m \u001b[0;34m=\u001b[0m \u001b[0mfunc\u001b[0m\u001b[0;34m(\u001b[0m\u001b[0;34m*\u001b[0m\u001b[0margs\u001b[0m\u001b[0;34m,\u001b[0m \u001b[0;34m**\u001b[0m\u001b[0mkwargs\u001b[0m\u001b[0;34m)\u001b[0m\u001b[0;34m\u001b[0m\u001b[0;34m\u001b[0m\u001b[0m\n\u001b[0m\u001b[1;32m    399\u001b[0m             \u001b[0m_end_auto_subdivision\u001b[0m\u001b[0;34m(\u001b[0m\u001b[0;34m)\u001b[0m\u001b[0;34m\u001b[0m\u001b[0;34m\u001b[0m\u001b[0m\n\u001b[1;32m    400\u001b[0m             \u001b[0;32mreturn\u001b[0m \u001b[0mresult\u001b[0m\u001b[0;34m\u001b[0m\u001b[0;34m\u001b[0m\u001b[0m\n",
      "\u001b[0;32m/iris/u/maxsobolmark/mbrl-lib/mbrl/models/model_env.py\u001b[0m in \u001b[0;36mstep\u001b[0;34m(self, actions, sample, mopo_penalty_coeff)\u001b[0m\n\u001b[1;32m    118\u001b[0m                                                   None, None, None, None)\n\u001b[1;32m    119\u001b[0m             (next_observs,\n\u001b[0;32m--> 120\u001b[0;31m              \u001b[0mpred_rewards\u001b[0m\u001b[0;34m)\u001b[0m\u001b[0;34m,\u001b[0m \u001b[0mvariances\u001b[0m \u001b[0;34m=\u001b[0m \u001b[0mself\u001b[0m\u001b[0;34m.\u001b[0m\u001b[0mdynamics_model\u001b[0m\u001b[0;34m.\u001b[0m\u001b[0msample\u001b[0m\u001b[0;34m(\u001b[0m\u001b[0;34m\u001b[0m\u001b[0;34m\u001b[0m\u001b[0m\n\u001b[0m\u001b[1;32m    121\u001b[0m                  \u001b[0mmodel_in\u001b[0m\u001b[0;34m,\u001b[0m\u001b[0;34m\u001b[0m\u001b[0;34m\u001b[0m\u001b[0m\n\u001b[1;32m    122\u001b[0m                  \u001b[0mdeterministic\u001b[0m\u001b[0;34m=\u001b[0m\u001b[0;32mnot\u001b[0m \u001b[0msample\u001b[0m\u001b[0;34m,\u001b[0m\u001b[0;34m\u001b[0m\u001b[0;34m\u001b[0m\u001b[0m\n",
      "\u001b[0;32m/iris/u/maxsobolmark/mbrl-lib/mbrl/models/one_dim_tr_model.py\u001b[0m in \u001b[0;36msample\u001b[0;34m(self, x, deterministic, rng, return_variance, **kwargs)\u001b[0m\n\u001b[1;32m    287\u001b[0m         \u001b[0mmodel_in\u001b[0m \u001b[0;34m=\u001b[0m \u001b[0mself\u001b[0m\u001b[0;34m.\u001b[0m\u001b[0m_get_model_input_from_tensors\u001b[0m\u001b[0;34m(\u001b[0m\u001b[0mobs\u001b[0m\u001b[0;34m,\u001b[0m \u001b[0mactions\u001b[0m\u001b[0;34m)\u001b[0m\u001b[0;34m\u001b[0m\u001b[0;34m\u001b[0m\u001b[0m\n\u001b[1;32m    288\u001b[0m         \u001b[0;32mif\u001b[0m \u001b[0mreturn_variance\u001b[0m\u001b[0;34m:\u001b[0m\u001b[0;34m\u001b[0m\u001b[0;34m\u001b[0m\u001b[0m\n\u001b[0;32m--> 289\u001b[0;31m             preds, variance = self.model.sample(model_in,\n\u001b[0m\u001b[1;32m    290\u001b[0m                                                 \u001b[0mrng\u001b[0m\u001b[0;34m=\u001b[0m\u001b[0mrng\u001b[0m\u001b[0;34m,\u001b[0m\u001b[0;34m\u001b[0m\u001b[0;34m\u001b[0m\u001b[0m\n\u001b[1;32m    291\u001b[0m                                                 \u001b[0mdeterministic\u001b[0m\u001b[0;34m=\u001b[0m\u001b[0mdeterministic\u001b[0m\u001b[0;34m,\u001b[0m\u001b[0;34m\u001b[0m\u001b[0;34m\u001b[0m\u001b[0m\n",
      "\u001b[0;32m/iris/u/maxsobolmark/mbrl-lib/mbrl/models/model.py\u001b[0m in \u001b[0;36msample\u001b[0;34m(self, x, deterministic, rng, return_variance, return_learned_variance, **kwargs)\u001b[0m\n\u001b[1;32m    354\u001b[0m             \u001b[0;32mreturn\u001b[0m \u001b[0;34m(\u001b[0m\u001b[0mmean\u001b[0m\u001b[0;34m,\u001b[0m \u001b[0mvar\u001b[0m\u001b[0;34m)\u001b[0m\u001b[0;34m\u001b[0m\u001b[0;34m\u001b[0m\u001b[0m\n\u001b[1;32m    355\u001b[0m         \u001b[0;32massert\u001b[0m \u001b[0mrng\u001b[0m \u001b[0;32mis\u001b[0m \u001b[0;32mnot\u001b[0m \u001b[0;32mNone\u001b[0m\u001b[0;34m\u001b[0m\u001b[0;34m\u001b[0m\u001b[0m\n\u001b[0;32m--> 356\u001b[0;31m         \u001b[0mmeans\u001b[0m\u001b[0;34m,\u001b[0m \u001b[0mlogvars\u001b[0m \u001b[0;34m=\u001b[0m \u001b[0mself\u001b[0m\u001b[0;34m.\u001b[0m\u001b[0mforward\u001b[0m\u001b[0;34m(\u001b[0m\u001b[0mx\u001b[0m\u001b[0;34m,\u001b[0m \u001b[0mrng\u001b[0m\u001b[0;34m=\u001b[0m\u001b[0mrng\u001b[0m\u001b[0;34m)\u001b[0m\u001b[0;34m\u001b[0m\u001b[0;34m\u001b[0m\u001b[0m\n\u001b[0m\u001b[1;32m    357\u001b[0m         \u001b[0mvariances\u001b[0m \u001b[0;34m=\u001b[0m \u001b[0mlogvars\u001b[0m\u001b[0;34m.\u001b[0m\u001b[0mexp\u001b[0m\u001b[0;34m(\u001b[0m\u001b[0;34m)\u001b[0m\u001b[0;34m\u001b[0m\u001b[0;34m\u001b[0m\u001b[0m\n\u001b[1;32m    358\u001b[0m         \u001b[0mstds\u001b[0m \u001b[0;34m=\u001b[0m \u001b[0mtorch\u001b[0m\u001b[0;34m.\u001b[0m\u001b[0msqrt\u001b[0m\u001b[0;34m(\u001b[0m\u001b[0mvariances\u001b[0m\u001b[0;34m)\u001b[0m\u001b[0;34m\u001b[0m\u001b[0;34m\u001b[0m\u001b[0m\n",
      "\u001b[0;32m/iris/u/maxsobolmark/pytorch_mbbl/lib/python3.9/site-packages/gtimer/public/timer.py\u001b[0m in \u001b[0;36mgtimer_wrapped\u001b[0;34m(*args, **kwargs)\u001b[0m\n\u001b[1;32m    396\u001b[0m             \u001b[0msave_itrs\u001b[0m \u001b[0;34m=\u001b[0m \u001b[0mSET\u001b[0m\u001b[0;34m[\u001b[0m\u001b[0;34m'SI'\u001b[0m\u001b[0;34m]\u001b[0m \u001b[0;32mif\u001b[0m \u001b[0mwrap_save_itrs\u001b[0m \u001b[0;32mis\u001b[0m \u001b[0;32mNone\u001b[0m \u001b[0;32melse\u001b[0m \u001b[0mwrap_save_itrs\u001b[0m\u001b[0;34m\u001b[0m\u001b[0;34m\u001b[0m\u001b[0m\n\u001b[1;32m    397\u001b[0m             \u001b[0m_auto_subdivide\u001b[0m\u001b[0;34m(\u001b[0m\u001b[0mname\u001b[0m\u001b[0;34m,\u001b[0m \u001b[0mrgstr_stamps\u001b[0m\u001b[0;34m,\u001b[0m \u001b[0msave_itrs\u001b[0m\u001b[0;34m=\u001b[0m\u001b[0msave_itrs\u001b[0m\u001b[0;34m)\u001b[0m\u001b[0;34m\u001b[0m\u001b[0;34m\u001b[0m\u001b[0m\n\u001b[0;32m--> 398\u001b[0;31m             \u001b[0mresult\u001b[0m \u001b[0;34m=\u001b[0m \u001b[0mfunc\u001b[0m\u001b[0;34m(\u001b[0m\u001b[0;34m*\u001b[0m\u001b[0margs\u001b[0m\u001b[0;34m,\u001b[0m \u001b[0;34m**\u001b[0m\u001b[0mkwargs\u001b[0m\u001b[0;34m)\u001b[0m\u001b[0;34m\u001b[0m\u001b[0;34m\u001b[0m\u001b[0m\n\u001b[0m\u001b[1;32m    399\u001b[0m             \u001b[0m_end_auto_subdivision\u001b[0m\u001b[0;34m(\u001b[0m\u001b[0;34m)\u001b[0m\u001b[0;34m\u001b[0m\u001b[0;34m\u001b[0m\u001b[0m\n\u001b[1;32m    400\u001b[0m             \u001b[0;32mreturn\u001b[0m \u001b[0mresult\u001b[0m\u001b[0;34m\u001b[0m\u001b[0;34m\u001b[0m\u001b[0m\n",
      "\u001b[0;32m/iris/u/maxsobolmark/mbrl-lib/mbrl/models/lifelong_learning_model.py\u001b[0m in \u001b[0;36mforward\u001b[0;34m(self, x, **kwargs)\u001b[0m\n\u001b[1;32m     97\u001b[0m         \u001b[0;31m# x[..., :-np.prod(self._act_shape)] = observations\u001b[0m\u001b[0;34m\u001b[0m\u001b[0;34m\u001b[0m\u001b[0;34m\u001b[0m\u001b[0m\n\u001b[1;32m     98\u001b[0m         \u001b[0mgt\u001b[0m\u001b[0;34m.\u001b[0m\u001b[0mstamp\u001b[0m\u001b[0;34m(\u001b[0m\u001b[0;34m'forward_preprocessing'\u001b[0m\u001b[0;34m)\u001b[0m\u001b[0;34m\u001b[0m\u001b[0;34m\u001b[0m\u001b[0m\n\u001b[0;32m---> 99\u001b[0;31m         \u001b[0mmean\u001b[0m\u001b[0;34m,\u001b[0m \u001b[0mlogvar\u001b[0m \u001b[0;34m=\u001b[0m \u001b[0mself\u001b[0m\u001b[0;34m.\u001b[0m\u001b[0m_original_forward\u001b[0m\u001b[0;34m(\u001b[0m\u001b[0mx\u001b[0m\u001b[0;34m,\u001b[0m \u001b[0;34m**\u001b[0m\u001b[0mkwargs\u001b[0m\u001b[0;34m)\u001b[0m\u001b[0;34m\u001b[0m\u001b[0;34m\u001b[0m\u001b[0m\n\u001b[0m\u001b[1;32m    100\u001b[0m         \u001b[0mgt\u001b[0m\u001b[0;34m.\u001b[0m\u001b[0mstamp\u001b[0m\u001b[0;34m(\u001b[0m\u001b[0;34m'original_forward'\u001b[0m\u001b[0;34m)\u001b[0m\u001b[0;34m\u001b[0m\u001b[0;34m\u001b[0m\u001b[0m\n\u001b[1;32m    101\u001b[0m         \u001b[0;31m# if self._num_tasks > 1:\u001b[0m\u001b[0;34m\u001b[0m\u001b[0;34m\u001b[0m\u001b[0;34m\u001b[0m\u001b[0m\n",
      "\u001b[0;32m/iris/u/maxsobolmark/mbrl-lib/mbrl/models/gaussian_mlp.py\u001b[0m in \u001b[0;36mforward\u001b[0;34m(self, x, rng, use_propagation)\u001b[0m\n\u001b[1;32m    274\u001b[0m         \"\"\"\n\u001b[1;32m    275\u001b[0m         \u001b[0;32mif\u001b[0m \u001b[0muse_propagation\u001b[0m\u001b[0;34m:\u001b[0m\u001b[0;34m\u001b[0m\u001b[0;34m\u001b[0m\u001b[0m\n\u001b[0;32m--> 276\u001b[0;31m             \u001b[0;32mreturn\u001b[0m \u001b[0mself\u001b[0m\u001b[0;34m.\u001b[0m\u001b[0m_forward_ensemble\u001b[0m\u001b[0;34m(\u001b[0m\u001b[0mx\u001b[0m\u001b[0;34m,\u001b[0m \u001b[0mrng\u001b[0m\u001b[0;34m=\u001b[0m\u001b[0mrng\u001b[0m\u001b[0;34m)\u001b[0m\u001b[0;34m\u001b[0m\u001b[0;34m\u001b[0m\u001b[0m\n\u001b[0m\u001b[1;32m    277\u001b[0m         \u001b[0;32mreturn\u001b[0m \u001b[0mself\u001b[0m\u001b[0;34m.\u001b[0m\u001b[0m_default_forward\u001b[0m\u001b[0;34m(\u001b[0m\u001b[0mx\u001b[0m\u001b[0;34m)\u001b[0m\u001b[0;34m\u001b[0m\u001b[0;34m\u001b[0m\u001b[0m\n\u001b[1;32m    278\u001b[0m \u001b[0;34m\u001b[0m\u001b[0m\n",
      "\u001b[0;32m/iris/u/maxsobolmark/mbrl-lib/mbrl/models/gaussian_mlp.py\u001b[0m in \u001b[0;36m_forward_ensemble\u001b[0;34m(self, x, rng)\u001b[0m\n\u001b[1;32m    209\u001b[0m             \u001b[0;31m# see https://github.com/pytorch/pytorch/issues/44714\u001b[0m\u001b[0;34m\u001b[0m\u001b[0;34m\u001b[0m\u001b[0;34m\u001b[0m\u001b[0m\n\u001b[1;32m    210\u001b[0m             \u001b[0mmodel_indices\u001b[0m \u001b[0;34m=\u001b[0m \u001b[0mtorch\u001b[0m\u001b[0;34m.\u001b[0m\u001b[0mrandperm\u001b[0m\u001b[0;34m(\u001b[0m\u001b[0mx\u001b[0m\u001b[0;34m.\u001b[0m\u001b[0mshape\u001b[0m\u001b[0;34m[\u001b[0m\u001b[0;36m1\u001b[0m\u001b[0;34m]\u001b[0m\u001b[0;34m,\u001b[0m \u001b[0mdevice\u001b[0m\u001b[0;34m=\u001b[0m\u001b[0mself\u001b[0m\u001b[0;34m.\u001b[0m\u001b[0mdevice\u001b[0m\u001b[0;34m)\u001b[0m\u001b[0;34m\u001b[0m\u001b[0;34m\u001b[0m\u001b[0m\n\u001b[0;32m--> 211\u001b[0;31m             \u001b[0;32mreturn\u001b[0m \u001b[0mself\u001b[0m\u001b[0;34m.\u001b[0m\u001b[0m_forward_from_indices\u001b[0m\u001b[0;34m(\u001b[0m\u001b[0mx\u001b[0m\u001b[0;34m,\u001b[0m \u001b[0mmodel_indices\u001b[0m\u001b[0;34m)\u001b[0m\u001b[0;34m\u001b[0m\u001b[0;34m\u001b[0m\u001b[0m\n\u001b[0m\u001b[1;32m    212\u001b[0m         \u001b[0;32mif\u001b[0m \u001b[0mself\u001b[0m\u001b[0;34m.\u001b[0m\u001b[0mpropagation_method\u001b[0m \u001b[0;34m==\u001b[0m \u001b[0;34m\"fixed_model\"\u001b[0m\u001b[0;34m:\u001b[0m\u001b[0;34m\u001b[0m\u001b[0;34m\u001b[0m\u001b[0m\n\u001b[1;32m    213\u001b[0m             \u001b[0;32mreturn\u001b[0m \u001b[0mself\u001b[0m\u001b[0;34m.\u001b[0m\u001b[0m_forward_from_indices\u001b[0m\u001b[0;34m(\u001b[0m\u001b[0mx\u001b[0m\u001b[0;34m,\u001b[0m \u001b[0mself\u001b[0m\u001b[0;34m.\u001b[0m\u001b[0m_propagation_indices\u001b[0m\u001b[0;34m)\u001b[0m\u001b[0;34m\u001b[0m\u001b[0;34m\u001b[0m\u001b[0m\n",
      "\u001b[0;32m/iris/u/maxsobolmark/mbrl-lib/mbrl/models/gaussian_mlp.py\u001b[0m in \u001b[0;36m_forward_from_indices\u001b[0;34m(self, x, model_shuffle_indices)\u001b[0m\n\u001b[1;32m    173\u001b[0m                        ...].view(num_models, batch_size // num_models, -1)\n\u001b[1;32m    174\u001b[0m \u001b[0;34m\u001b[0m\u001b[0m\n\u001b[0;32m--> 175\u001b[0;31m         \u001b[0mmean\u001b[0m\u001b[0;34m,\u001b[0m \u001b[0mlogvar\u001b[0m \u001b[0;34m=\u001b[0m \u001b[0mself\u001b[0m\u001b[0;34m.\u001b[0m\u001b[0m_default_forward\u001b[0m\u001b[0;34m(\u001b[0m\u001b[0mshuffled_x\u001b[0m\u001b[0;34m,\u001b[0m \u001b[0monly_elite\u001b[0m\u001b[0;34m=\u001b[0m\u001b[0;32mTrue\u001b[0m\u001b[0;34m)\u001b[0m\u001b[0;34m\u001b[0m\u001b[0;34m\u001b[0m\u001b[0m\n\u001b[0m\u001b[1;32m    176\u001b[0m         \u001b[0;31m# note that mean and logvar are shuffled\u001b[0m\u001b[0;34m\u001b[0m\u001b[0;34m\u001b[0m\u001b[0;34m\u001b[0m\u001b[0m\n\u001b[1;32m    177\u001b[0m         \u001b[0mmean\u001b[0m \u001b[0;34m=\u001b[0m \u001b[0mmean\u001b[0m\u001b[0;34m.\u001b[0m\u001b[0mview\u001b[0m\u001b[0;34m(\u001b[0m\u001b[0mbatch_size\u001b[0m\u001b[0;34m,\u001b[0m \u001b[0;34m-\u001b[0m\u001b[0;36m1\u001b[0m\u001b[0;34m)\u001b[0m\u001b[0;34m\u001b[0m\u001b[0;34m\u001b[0m\u001b[0m\n",
      "\u001b[0;32m/iris/u/maxsobolmark/mbrl-lib/mbrl/models/gaussian_mlp.py\u001b[0m in \u001b[0;36m_default_forward\u001b[0;34m(self, x, only_elite, **_kwargs)\u001b[0m\n\u001b[1;32m    148\u001b[0m             **_kwargs) -> Tuple[torch.Tensor, Optional[torch.Tensor]]:\n\u001b[1;32m    149\u001b[0m         \u001b[0mself\u001b[0m\u001b[0;34m.\u001b[0m\u001b[0m_maybe_toggle_layers_use_only_elite\u001b[0m\u001b[0;34m(\u001b[0m\u001b[0monly_elite\u001b[0m\u001b[0;34m)\u001b[0m\u001b[0;34m\u001b[0m\u001b[0;34m\u001b[0m\u001b[0m\n\u001b[0;32m--> 150\u001b[0;31m         \u001b[0mx\u001b[0m \u001b[0;34m=\u001b[0m \u001b[0mself\u001b[0m\u001b[0;34m.\u001b[0m\u001b[0mhidden_layers\u001b[0m\u001b[0;34m(\u001b[0m\u001b[0mx\u001b[0m\u001b[0;34m)\u001b[0m\u001b[0;34m\u001b[0m\u001b[0;34m\u001b[0m\u001b[0m\n\u001b[0m\u001b[1;32m    151\u001b[0m         \u001b[0mmean_and_logvar\u001b[0m \u001b[0;34m=\u001b[0m \u001b[0mself\u001b[0m\u001b[0;34m.\u001b[0m\u001b[0mmean_and_logvar\u001b[0m\u001b[0;34m(\u001b[0m\u001b[0mx\u001b[0m\u001b[0;34m)\u001b[0m\u001b[0;34m\u001b[0m\u001b[0;34m\u001b[0m\u001b[0m\n\u001b[1;32m    152\u001b[0m         \u001b[0mself\u001b[0m\u001b[0;34m.\u001b[0m\u001b[0m_maybe_toggle_layers_use_only_elite\u001b[0m\u001b[0;34m(\u001b[0m\u001b[0monly_elite\u001b[0m\u001b[0;34m)\u001b[0m\u001b[0;34m\u001b[0m\u001b[0;34m\u001b[0m\u001b[0m\n",
      "\u001b[0;32m/iris/u/maxsobolmark/pytorch_mbbl/lib/python3.9/site-packages/torch/nn/modules/module.py\u001b[0m in \u001b[0;36m_call_impl\u001b[0;34m(self, *input, **kwargs)\u001b[0m\n\u001b[1;32m   1049\u001b[0m         if not (self._backward_hooks or self._forward_hooks or self._forward_pre_hooks or _global_backward_hooks\n\u001b[1;32m   1050\u001b[0m                 or _global_forward_hooks or _global_forward_pre_hooks):\n\u001b[0;32m-> 1051\u001b[0;31m             \u001b[0;32mreturn\u001b[0m \u001b[0mforward_call\u001b[0m\u001b[0;34m(\u001b[0m\u001b[0;34m*\u001b[0m\u001b[0minput\u001b[0m\u001b[0;34m,\u001b[0m \u001b[0;34m**\u001b[0m\u001b[0mkwargs\u001b[0m\u001b[0;34m)\u001b[0m\u001b[0;34m\u001b[0m\u001b[0;34m\u001b[0m\u001b[0m\n\u001b[0m\u001b[1;32m   1052\u001b[0m         \u001b[0;31m# Do not call functions when jit is used\u001b[0m\u001b[0;34m\u001b[0m\u001b[0;34m\u001b[0m\u001b[0;34m\u001b[0m\u001b[0m\n\u001b[1;32m   1053\u001b[0m         \u001b[0mfull_backward_hooks\u001b[0m\u001b[0;34m,\u001b[0m \u001b[0mnon_full_backward_hooks\u001b[0m \u001b[0;34m=\u001b[0m \u001b[0;34m[\u001b[0m\u001b[0;34m]\u001b[0m\u001b[0;34m,\u001b[0m \u001b[0;34m[\u001b[0m\u001b[0;34m]\u001b[0m\u001b[0;34m\u001b[0m\u001b[0;34m\u001b[0m\u001b[0m\n",
      "\u001b[0;32m/iris/u/maxsobolmark/pytorch_mbbl/lib/python3.9/site-packages/torch/nn/modules/container.py\u001b[0m in \u001b[0;36mforward\u001b[0;34m(self, input)\u001b[0m\n\u001b[1;32m    137\u001b[0m     \u001b[0;32mdef\u001b[0m \u001b[0mforward\u001b[0m\u001b[0;34m(\u001b[0m\u001b[0mself\u001b[0m\u001b[0;34m,\u001b[0m \u001b[0minput\u001b[0m\u001b[0;34m)\u001b[0m\u001b[0;34m:\u001b[0m\u001b[0;34m\u001b[0m\u001b[0;34m\u001b[0m\u001b[0m\n\u001b[1;32m    138\u001b[0m         \u001b[0;32mfor\u001b[0m \u001b[0mmodule\u001b[0m \u001b[0;32min\u001b[0m \u001b[0mself\u001b[0m\u001b[0;34m:\u001b[0m\u001b[0;34m\u001b[0m\u001b[0;34m\u001b[0m\u001b[0m\n\u001b[0;32m--> 139\u001b[0;31m             \u001b[0minput\u001b[0m \u001b[0;34m=\u001b[0m \u001b[0mmodule\u001b[0m\u001b[0;34m(\u001b[0m\u001b[0minput\u001b[0m\u001b[0;34m)\u001b[0m\u001b[0;34m\u001b[0m\u001b[0;34m\u001b[0m\u001b[0m\n\u001b[0m\u001b[1;32m    140\u001b[0m         \u001b[0;32mreturn\u001b[0m \u001b[0minput\u001b[0m\u001b[0;34m\u001b[0m\u001b[0;34m\u001b[0m\u001b[0m\n\u001b[1;32m    141\u001b[0m \u001b[0;34m\u001b[0m\u001b[0m\n",
      "\u001b[0;32m/iris/u/maxsobolmark/pytorch_mbbl/lib/python3.9/site-packages/torch/nn/modules/module.py\u001b[0m in \u001b[0;36m_call_impl\u001b[0;34m(self, *input, **kwargs)\u001b[0m\n\u001b[1;32m   1049\u001b[0m         if not (self._backward_hooks or self._forward_hooks or self._forward_pre_hooks or _global_backward_hooks\n\u001b[1;32m   1050\u001b[0m                 or _global_forward_hooks or _global_forward_pre_hooks):\n\u001b[0;32m-> 1051\u001b[0;31m             \u001b[0;32mreturn\u001b[0m \u001b[0mforward_call\u001b[0m\u001b[0;34m(\u001b[0m\u001b[0;34m*\u001b[0m\u001b[0minput\u001b[0m\u001b[0;34m,\u001b[0m \u001b[0;34m**\u001b[0m\u001b[0mkwargs\u001b[0m\u001b[0;34m)\u001b[0m\u001b[0;34m\u001b[0m\u001b[0;34m\u001b[0m\u001b[0m\n\u001b[0m\u001b[1;32m   1052\u001b[0m         \u001b[0;31m# Do not call functions when jit is used\u001b[0m\u001b[0;34m\u001b[0m\u001b[0;34m\u001b[0m\u001b[0;34m\u001b[0m\u001b[0m\n\u001b[1;32m   1053\u001b[0m         \u001b[0mfull_backward_hooks\u001b[0m\u001b[0;34m,\u001b[0m \u001b[0mnon_full_backward_hooks\u001b[0m \u001b[0;34m=\u001b[0m \u001b[0;34m[\u001b[0m\u001b[0;34m]\u001b[0m\u001b[0;34m,\u001b[0m \u001b[0;34m[\u001b[0m\u001b[0;34m]\u001b[0m\u001b[0;34m\u001b[0m\u001b[0;34m\u001b[0m\u001b[0m\n",
      "\u001b[0;32m/iris/u/maxsobolmark/pytorch_mbbl/lib/python3.9/site-packages/torch/nn/modules/container.py\u001b[0m in \u001b[0;36mforward\u001b[0;34m(self, input)\u001b[0m\n\u001b[1;32m    137\u001b[0m     \u001b[0;32mdef\u001b[0m \u001b[0mforward\u001b[0m\u001b[0;34m(\u001b[0m\u001b[0mself\u001b[0m\u001b[0;34m,\u001b[0m \u001b[0minput\u001b[0m\u001b[0;34m)\u001b[0m\u001b[0;34m:\u001b[0m\u001b[0;34m\u001b[0m\u001b[0;34m\u001b[0m\u001b[0m\n\u001b[1;32m    138\u001b[0m         \u001b[0;32mfor\u001b[0m \u001b[0mmodule\u001b[0m \u001b[0;32min\u001b[0m \u001b[0mself\u001b[0m\u001b[0;34m:\u001b[0m\u001b[0;34m\u001b[0m\u001b[0;34m\u001b[0m\u001b[0m\n\u001b[0;32m--> 139\u001b[0;31m             \u001b[0minput\u001b[0m \u001b[0;34m=\u001b[0m \u001b[0mmodule\u001b[0m\u001b[0;34m(\u001b[0m\u001b[0minput\u001b[0m\u001b[0;34m)\u001b[0m\u001b[0;34m\u001b[0m\u001b[0;34m\u001b[0m\u001b[0m\n\u001b[0m\u001b[1;32m    140\u001b[0m         \u001b[0;32mreturn\u001b[0m \u001b[0minput\u001b[0m\u001b[0;34m\u001b[0m\u001b[0;34m\u001b[0m\u001b[0m\n\u001b[1;32m    141\u001b[0m \u001b[0;34m\u001b[0m\u001b[0m\n",
      "\u001b[0;32m/iris/u/maxsobolmark/pytorch_mbbl/lib/python3.9/site-packages/torch/nn/modules/module.py\u001b[0m in \u001b[0;36m_call_impl\u001b[0;34m(self, *input, **kwargs)\u001b[0m\n\u001b[1;32m   1049\u001b[0m         if not (self._backward_hooks or self._forward_hooks or self._forward_pre_hooks or _global_backward_hooks\n\u001b[1;32m   1050\u001b[0m                 or _global_forward_hooks or _global_forward_pre_hooks):\n\u001b[0;32m-> 1051\u001b[0;31m             \u001b[0;32mreturn\u001b[0m \u001b[0mforward_call\u001b[0m\u001b[0;34m(\u001b[0m\u001b[0;34m*\u001b[0m\u001b[0minput\u001b[0m\u001b[0;34m,\u001b[0m \u001b[0;34m**\u001b[0m\u001b[0mkwargs\u001b[0m\u001b[0;34m)\u001b[0m\u001b[0;34m\u001b[0m\u001b[0;34m\u001b[0m\u001b[0m\n\u001b[0m\u001b[1;32m   1052\u001b[0m         \u001b[0;31m# Do not call functions when jit is used\u001b[0m\u001b[0;34m\u001b[0m\u001b[0;34m\u001b[0m\u001b[0;34m\u001b[0m\u001b[0m\n\u001b[1;32m   1053\u001b[0m         \u001b[0mfull_backward_hooks\u001b[0m\u001b[0;34m,\u001b[0m \u001b[0mnon_full_backward_hooks\u001b[0m \u001b[0;34m=\u001b[0m \u001b[0;34m[\u001b[0m\u001b[0;34m]\u001b[0m\u001b[0;34m,\u001b[0m \u001b[0;34m[\u001b[0m\u001b[0;34m]\u001b[0m\u001b[0;34m\u001b[0m\u001b[0;34m\u001b[0m\u001b[0m\n",
      "\u001b[0;32m/iris/u/maxsobolmark/mbrl-lib/mbrl/models/util.py\u001b[0m in \u001b[0;36mforward\u001b[0;34m(self, x)\u001b[0m\n\u001b[1;32m     53\u001b[0m     \u001b[0;32mdef\u001b[0m \u001b[0mforward\u001b[0m\u001b[0;34m(\u001b[0m\u001b[0mself\u001b[0m\u001b[0;34m,\u001b[0m \u001b[0mx\u001b[0m\u001b[0;34m)\u001b[0m\u001b[0;34m:\u001b[0m\u001b[0;34m\u001b[0m\u001b[0;34m\u001b[0m\u001b[0m\n\u001b[1;32m     54\u001b[0m         \u001b[0;32mif\u001b[0m \u001b[0mself\u001b[0m\u001b[0;34m.\u001b[0m\u001b[0muse_only_elite\u001b[0m\u001b[0;34m:\u001b[0m\u001b[0;34m\u001b[0m\u001b[0;34m\u001b[0m\u001b[0m\n\u001b[0;32m---> 55\u001b[0;31m             \u001b[0mxw\u001b[0m \u001b[0;34m=\u001b[0m \u001b[0mx\u001b[0m\u001b[0;34m.\u001b[0m\u001b[0mmatmul\u001b[0m\u001b[0;34m(\u001b[0m\u001b[0mself\u001b[0m\u001b[0;34m.\u001b[0m\u001b[0mweight\u001b[0m\u001b[0;34m[\u001b[0m\u001b[0mself\u001b[0m\u001b[0;34m.\u001b[0m\u001b[0melite_models\u001b[0m\u001b[0;34m,\u001b[0m \u001b[0;34m...\u001b[0m\u001b[0;34m]\u001b[0m\u001b[0;34m)\u001b[0m\u001b[0;34m\u001b[0m\u001b[0;34m\u001b[0m\u001b[0m\n\u001b[0m\u001b[1;32m     56\u001b[0m             \u001b[0;32mif\u001b[0m \u001b[0mself\u001b[0m\u001b[0;34m.\u001b[0m\u001b[0muse_bias\u001b[0m\u001b[0;34m:\u001b[0m\u001b[0;34m\u001b[0m\u001b[0;34m\u001b[0m\u001b[0m\n\u001b[1;32m     57\u001b[0m                 \u001b[0;32mreturn\u001b[0m \u001b[0mxw\u001b[0m \u001b[0;34m+\u001b[0m \u001b[0mself\u001b[0m\u001b[0;34m.\u001b[0m\u001b[0mbias\u001b[0m\u001b[0;34m[\u001b[0m\u001b[0mself\u001b[0m\u001b[0;34m.\u001b[0m\u001b[0melite_models\u001b[0m\u001b[0;34m,\u001b[0m \u001b[0;34m...\u001b[0m\u001b[0;34m]\u001b[0m\u001b[0;34m\u001b[0m\u001b[0;34m\u001b[0m\u001b[0m\n",
      "\u001b[0;31mKeyboardInterrupt\u001b[0m: "
     ]
    }
   ],
   "source": [
    "planning_agent.reset()\n",
    "obs = lifelong_learning_envs[0].reset()\n",
    "total_reward = 0.\n",
    "done = False\n",
    "step = 0\n",
    "while not done:\n",
    "    print(f'Starting step {step}')\n",
    "    action = planning_agent.act(obs)\n",
    "    next_obs, reward, done, info = lifelong_learning_envs[0].step(action)\n",
    "    total_reward += reward\n",
    "    step += 1"
   ]
  },
  {
   "cell_type": "markdown",
   "id": "523c26b3",
   "metadata": {
    "collapsed": false
   },
   "source": [
    "test = lifelong_learning_envs[0].unwrapped._env.render(mode='rgb_array')"
   ]
  },
  {
   "cell_type": "code",
   "execution_count": null,
   "id": "7e900574",
   "metadata": {
    "collapsed": false
   },
   "outputs": [],
   "source": []
  }
 ],
 "metadata": {
  "kernelspec": {
   "argv": [
    "/iris/u/maxsobolmark/pytorch_mbbl/bin/python",
    "-m",
    "ipykernel_launcher",
    "-f",
    "{connection_file}"
   ],
   "display_name": "Python 3",
   "env": null,
   "interrupt_mode": "signal",
   "language": "python",
   "metadata": null,
   "name": "python3"
  },
  "name": "Render Videos.ipynb"
 },
 "nbformat": 4,
 "nbformat_minor": 5
}
